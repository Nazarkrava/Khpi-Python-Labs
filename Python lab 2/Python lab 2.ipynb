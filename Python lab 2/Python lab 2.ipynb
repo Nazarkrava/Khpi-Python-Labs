{
 "cells": [
  {
   "cell_type": "code",
   "execution_count": 28,
   "metadata": {},
   "outputs": [],
   "source": [
    "import numpy as np"
   ]
  },
  {
   "cell_type": "markdown",
   "metadata": {},
   "source": [
    "***Exercise 2.*** Enter a number n. Output an array of size n×n, in which the diagonals are numbers from 1 to n, and elements are 0"
   ]
  },
  {
   "cell_type": "code",
   "execution_count": 3,
   "metadata": {
    "scrolled": true
   },
   "outputs": [
    {
     "name": "stdout",
     "output_type": "stream",
     "text": [
      "[[1 0 1 0 1 0 1 0 1 0]\n",
      " [0 1 0 1 0 1 0 1 0 1]\n",
      " [1 0 1 0 1 0 1 0 1 0]\n",
      " [0 1 0 1 0 1 0 1 0 1]\n",
      " [1 0 1 0 1 0 1 0 1 0]\n",
      " [0 1 0 1 0 1 0 1 0 1]\n",
      " [1 0 1 0 1 0 1 0 1 0]\n",
      " [0 1 0 1 0 1 0 1 0 1]\n",
      " [1 0 1 0 1 0 1 0 1 0]\n",
      " [0 1 0 1 0 1 0 1 0 1]]\n"
     ]
    }
   ],
   "source": [
    "def ex2(n):\n",
    "    return np.tile(np.array([[1,0],[0,1]]), (n,n))\n",
    "print(ex2(5))"
   ]
  },
  {
   "cell_type": "markdown",
   "metadata": {},
   "source": [
    "***Exercise 5.*** Enter a number n. Output an array of size n×n, in which the rows with the een indices are equal to 1, and in others are equal to 0."
   ]
  },
  {
   "cell_type": "code",
   "execution_count": 5,
   "metadata": {},
   "outputs": [
    {
     "name": "stdout",
     "output_type": "stream",
     "text": [
      "[[1 1 1 1 1 1 1 1 1 1]\n",
      " [0 0 0 0 0 0 0 0 0 0]\n",
      " [1 1 1 1 1 1 1 1 1 1]\n",
      " [0 0 0 0 0 0 0 0 0 0]\n",
      " [1 1 1 1 1 1 1 1 1 1]\n",
      " [0 0 0 0 0 0 0 0 0 0]\n",
      " [1 1 1 1 1 1 1 1 1 1]\n",
      " [0 0 0 0 0 0 0 0 0 0]\n",
      " [1 1 1 1 1 1 1 1 1 1]\n",
      " [0 0 0 0 0 0 0 0 0 0]]\n"
     ]
    }
   ],
   "source": [
    "def ex5(n):\n",
    "    arr = np.zeros((n,n), dtype = int)\n",
    "    arr[0::2,::2] = 1\n",
    "    arr[::2,1::2] = 1\n",
    "    return arr\n",
    "print(ex5(10))"
   ]
  },
  {
   "cell_type": "markdown",
   "metadata": {},
   "source": [
    "***Exercise 7.*** An array is entered from the keyborad. Replace all non-zero elements with -1"
   ]
  },
  {
   "cell_type": "code",
   "execution_count": 8,
   "metadata": {},
   "outputs": [
    {
     "name": "stdout",
     "output_type": "stream",
     "text": [
      ": 2 0 2 0 2 0 2 0 2\n",
      "[ 2 -1  2 -1  2 -1  2 -1  2]\n"
     ]
    }
   ],
   "source": [
    "def ex7(arr):\n",
    "    arr[arr == 0] = -1\n",
    "    return arr\n",
    "a = np.array([int(i) for i in input(\": \").split()])\n",
    "print(ex7(a))"
   ]
  },
  {
   "cell_type": "markdown",
   "metadata": {},
   "source": [
    "***Excercise 9***. Enter the number n. Create an array of values from n to 0."
   ]
  },
  {
   "cell_type": "code",
   "execution_count": 9,
   "metadata": {},
   "outputs": [
    {
     "name": "stdout",
     "output_type": "stream",
     "text": [
      ": 15\n",
      "[15 14 13 12 11 10  9  8  7  6  5  4  3  2  1  0]\n"
     ]
    }
   ],
   "source": [
    "def ex9(n):\n",
    "    return np.arange(n,-1,-1)\n",
    "n = int(input(\": \"))\n",
    "print(ex9(n))"
   ]
  },
  {
   "cell_type": "markdown",
   "metadata": {},
   "source": [
    "***Exercise 10.*** Enter the numbers n and m. Create an array of random values of size n×n and calculate the minimum, maximum value, mean and standart deviation, rounded to 3 decimal places"
   ]
  },
  {
   "cell_type": "code",
   "execution_count": 12,
   "metadata": {},
   "outputs": [
    {
     "name": "stdout",
     "output_type": "stream",
     "text": [
      "0.9829204691065069\n",
      "0.05220206419700735\n",
      "0.49420716448927776\n",
      "0.29589445059945885\n"
     ]
    }
   ],
   "source": [
    "def ex10(n,m):\n",
    "    arr = np.random.random((n,m))\n",
    "    print(arr.max())\n",
    "    print(arr.min())\n",
    "    print(arr.mean())\n",
    "    print(arr.std())\n",
    "ex10(5,5)"
   ]
  },
  {
   "cell_type": "markdown",
   "metadata": {},
   "source": [
    "***Excercise 14.*** Arrange 1 and 0 on the 8х8 field in a checkerboard pattern using the repeat function(*)."
   ]
  },
  {
   "cell_type": "code",
   "execution_count": 13,
   "metadata": {},
   "outputs": [
    {
     "name": "stdout",
     "output_type": "stream",
     "text": [
      "[[0 1 0 1 0 1 0 1 0 1]\n",
      " [1 0 1 0 1 0 1 0 1 0]\n",
      " [0 1 0 1 0 1 0 1 0 1]\n",
      " [1 0 1 0 1 0 1 0 1 0]\n",
      " [0 1 0 1 0 1 0 1 0 1]\n",
      " [1 0 1 0 1 0 1 0 1 0]\n",
      " [0 1 0 1 0 1 0 1 0 1]\n",
      " [1 0 1 0 1 0 1 0 1 0]\n",
      " [0 1 0 1 0 1 0 1 0 1]\n",
      " [1 0 1 0 1 0 1 0 1 0]]\n"
     ]
    }
   ],
   "source": [
    "def ex14(n):\n",
    "    return np.tile(np.array([[0,1],[1,0]]), (n,n))\n",
    "print(ex14(5))"
   ]
  },
  {
   "cell_type": "markdown",
   "metadata": {},
   "source": [
    "\n",
    "***Excercise 15.*** Arrange 1 and 0 on the 8х8 field in a checkerboard pattern using the numpy tile()."
   ]
  },
  {
   "cell_type": "code",
   "execution_count": 14,
   "metadata": {},
   "outputs": [
    {
     "name": "stdout",
     "output_type": "stream",
     "text": [
      "[[0 1 0 1 0 1 0 1 0 1]\n",
      " [0 1 0 1 0 1 0 1 0 1]\n",
      " [0 1 0 1 0 1 0 1 0 1]\n",
      " [0 1 0 1 0 1 0 1 0 1]\n",
      " [0 1 0 1 0 1 0 1 0 1]]\n"
     ]
    }
   ],
   "source": [
    "def ex15(n):\n",
    "    return np.tile([0,1], (n,n))\n",
    "print(ex15(5))"
   ]
  },
  {
   "cell_type": "markdown",
   "metadata": {},
   "source": [
    "***Excercise 21.*** Generate a vector of n random elements, lying in the interval (0,1). Replace the maximum element with 0."
   ]
  },
  {
   "cell_type": "code",
   "execution_count": 15,
   "metadata": {},
   "outputs": [
    {
     "name": "stdout",
     "output_type": "stream",
     "text": [
      "[0.5649649  0.71688438 0.60710189 0.43453211 0.65946902 0.51218832\n",
      " 0.78206251 0.94181846 0.85882823 0.29643342]\n",
      "[0.5649649  0.71688438 0.60710189 0.43453211 0.65946902 0.51218832\n",
      " 0.78206251 0.         0.85882823 0.29643342]\n"
     ]
    }
   ],
   "source": [
    "def ex21(n):\n",
    "    arr = np.random.random(n)\n",
    "    arr1 = np.where(arr == arr.max(), 0, arr)\n",
    "    return arr, arr1\n",
    "for a in ex21(10):\n",
    "    print(a)"
   ]
  },
  {
   "attachments": {
    "image.png": {
     "image/png": "[encoded data removed]"
    }
   },
   "cell_type": "markdown",
   "metadata": {},
   "source": [
    "Solve the system of linear equations using Cramer's formulas and perform a test using matrix multiplication and numpy.linalg.solve() ![image.png](attachment:image.png)"
   ]
  },
  {
   "cell_type": "code",
   "execution_count": 27,
   "metadata": {},
   "outputs": [
    {
     "name": "stdout",
     "output_type": "stream",
     "text": [
      "[ 1.00000000e+00 -1.00000000e+00 -7.85356628e-17  2.00000000e+00]\n",
      "[ 1.00000000e+00 -1.00000000e+00 -5.24271984e-17  2.00000000e+00]\n",
      "[ 1.20000000e+01 -2.22044605e-15  4.00000000e+00  1.60000000e+01]\n",
      "True\n"
     ]
    }
   ],
   "source": [
    "def solve_by_cramer(mA, b):\n",
    "    n = mA.shape[0]\n",
    "    det = np.linalg.det(mA)\n",
    "    xs = np.empty(n)\n",
    "    if det == 0:\n",
    "        return None\n",
    "    for i in range(n):\n",
    "        mAi = np.copy(mA)\n",
    "        mAi[:, i] = b\n",
    "        xs[i] = np.linalg.det(mAi) / det\n",
    "    return xs\n",
    "\n",
    "a = np.array([[1,3,5,7],[3,5,7,1],[5,7,1,3],[7,1,3,5]])\n",
    "b = np.array([12,0,4,16])\n",
    "roots = solve_by_cramer(a, b)\n",
    "print(roots)\n",
    "print(np.linalg.solve(a,b))\n",
    "ax = np.dot(a,roots)\n",
    "print(ax)\n",
    "print(np.allclose(ax, b))"
   ]
  },
  {
   "attachments": {
    "image.png": {
     "image/png": "[encoded data removed]"
    }
   },
   "cell_type": "markdown",
   "metadata": {},
   "source": [
    "Calculate the value of the matrix expression ![image.png](attachment:image.png)"
   ]
  },
  {
   "cell_type": "code",
   "execution_count": 21,
   "metadata": {},
   "outputs": [
    {
     "name": "stdout",
     "output_type": "stream",
     "text": [
      "[[ -52 -340    1]\n",
      " [ 171    0    2]\n",
      " [  48   14  -49]]\n"
     ]
    }
   ],
   "source": [
    "def calc(mA, mB):\n",
    "    res = ((mA-mB*mB)*(2*mA+mB))\n",
    "    return res\n",
    "\n",
    "a = np.array([[5,2,0],[10,4,1],[7,3,2]])\n",
    "b = np.array([[3,6,-1],[-1,-2,0],[2,1,3]])\n",
    "print(calc(a,b))"
   ]
  },
  {
   "attachments": {
    "image.png": {
     "image/png": "[encoded data removed]"
    }
   },
   "cell_type": "markdown",
   "metadata": {},
   "source": [
    "Solve the matrix equation using an inverse matrix and perform a test using matrix multiplication and numpy.linalg.solve().\n",
    "![image.png](attachment:image.png)"
   ]
  },
  {
   "cell_type": "code",
   "execution_count": 26,
   "metadata": {},
   "outputs": [
    {
     "name": "stdout",
     "output_type": "stream",
     "text": [
      "[[1. 2. 1.]\n",
      " [2. 1. 1.]\n",
      " [1. 1. 2.]]\n",
      "[[1. 2. 1.]\n",
      " [2. 1. 1.]\n",
      " [1. 1. 2.]]\n",
      "[[9. 8. 7.]\n",
      " [2. 7. 3.]\n",
      " [4. 3. 5.]]\n",
      "True\n"
     ]
    }
   ],
   "source": [
    "def solve_by_inv(mA, mB):\n",
    "    if np.linalg.det(mA) == 0:\n",
    "        return None\n",
    "    xs = np.linalg.inv(mA) @ mB\n",
    "    return xs\n",
    "\n",
    "a = np.array([[2,3,1],[4,-1,0],[0,1,2]])\n",
    "b = np.array([[9,8,7],[2,7,3],[4,3,5]])\n",
    "roots = solve_by_inv(a,b)\n",
    "print(roots)\n",
    "print(np.linalg.solve(a,b))\n",
    "prod = a @ roots\n",
    "print(prod)\n",
    "print(np.allclose(prod,b))"
   ]
  },
  {
   "cell_type": "code",
   "execution_count": null,
   "metadata": {},
   "outputs": [],
   "source": []
  }
 ],
 "metadata": {
  "kernelspec": {
   "display_name": "Python 3",
   "language": "python",
   "name": "python3"
  }
 },
 "nbformat": 4,
 "nbformat_minor": 4
}
