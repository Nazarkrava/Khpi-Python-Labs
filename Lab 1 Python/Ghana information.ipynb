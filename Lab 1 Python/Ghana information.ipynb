{
 "cells": [
  {
   "cell_type": "markdown",
   "metadata": {},
   "source": [
    "\n",
    "![flag](https://upload.wikimedia.org/wikipedia/commons/thumb/1/11/Ghana_Flag.svg/512px-Ghana_Flag.svg.png)\n",
    "\n",
    "<font color='Green'> <h1>Ghana </center></font>\n",
    "\n",
    "# Capital\n",
    "**Accra\n",
    "***\n",
    "\n",
    "### National languages:\n",
    "*English\n",
    "***\n",
    "\n",
    "### Area:\n",
    "*238 533 km2\n",
    "***\n",
    "\n",
    "### Population:\n",
    "*29 340 248\n",
    "***\n",
    "\n",
    "### Government:\n",
    "Unitary presidential constitutional republic\n",
    "***\n",
    "\n",
    "### President:\n",
    "[Nana Akufo-Addo](https://en.wikipedia.org/wiki/Nana_Akufo-Addo)\n",
    "***\n",
    "\n",
    "### Neighbour countries:\n",
    "* Burkina Faso\n",
    "    * Ouagadougou\n",
    "* Côte d'Ivoire\n",
    "    * Yamoussoukro\n",
    "* Togo\n",
    "    * Lomé\n",
    "***\n",
    "\n",
    "### 5 biggest cities\n",
    "|Name|Region|Population|\n",
    "|:---|---:|---:|\n",
    "*Accra*|Greater Accra|2,291,352\n",
    "*Kumasi*|Ashanti|2,069,350\n",
    "*Tamale*|Northrn|562,919\n",
    "*Secondi-Takoradi*|Western|539,548\n",
    "*Ashaiman*|Greater Accra|298,841\n"
   ]
  },
  {
   "cell_type": "code",
   "execution_count": 21,
   "metadata": {},
   "outputs": [
    {
     "data": {
      "text/html": [
       "<svg width=\"900\" height=\"600\" viewBox=\"0 0 9 6\">\n",
       "\t<title>Flag of Ghana</title>\n",
       "\t<path fill=\"#006b3f\" d=\"m0 0h9v6H0z\"/>\n",
       "\t<path fill=\"#fcd116\" d=\"m0 0h9v4H0z\"/>\n",
       "\t<path fill=\"#ce1126\" d=\"m0 0h9v2H0z\"/>\n",
       "\t<path d=\"m4.5 2 .6498 2-1.7013-1.2361h2.103L3.8502 4z\"/>\n",
       "</svg>\n"
      ],
      "text/plain": [
       "<IPython.core.display.HTML object>"
      ]
     },
     "metadata": {},
     "output_type": "display_data"
    }
   ],
   "source": [
    "%%html\n",
    "<svg width=\"900\" height=\"600\" viewBox=\"0 0 9 6\">\n",
    "\t<title>Flag of Ghana</title>\n",
    "\t<path fill=\"#006b3f\" d=\"m0 0h9v6H0z\"/>\n",
    "\t<path fill=\"#fcd116\" d=\"m0 0h9v4H0z\"/>\n",
    "\t<path fill=\"#ce1126\" d=\"m0 0h9v2H0z\"/>\n",
    "\t<path d=\"m4.5 2 .6498 2-1.7013-1.2361h2.103L3.8502 4z\"/>\n",
    "</svg>\n"
   ]
  }
 ],
 "metadata": {
  "kernelspec": {
   "display_name": "Python 3",
   "language": "python",
   "name": "python3"
  },
  "language_info": {
   "codemirror_mode": {
    "name": "ipython",
    "version": 3
   },
   "file_extension": ".py",
   "mimetype": "text/x-python",
   "name": "python",
   "nbconvert_exporter": "python",
   "pygments_lexer": "ipython3",
   "version": "3.8.3"
  }
 },
 "nbformat": 4,
 "nbformat_minor": 4
}
