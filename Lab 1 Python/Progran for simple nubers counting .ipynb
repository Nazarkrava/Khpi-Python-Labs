{
 "cells": [
  {
   "cell_type": "code",
   "execution_count": 1,
   "metadata": {},
   "outputs": [
    {
     "name": "stdout",
     "output_type": "stream",
     "text": [
      "Enter a value k: 4\n",
      "Simple number: 11\n"
     ]
    }
   ],
   "source": [
    "def task5():\n",
    "    n = 2\n",
    "    while 1:\n",
    "        n += 1\n",
    "        for i in range(2, n):\n",
    "            if n % i == 0:\n",
    "                break\n",
    "            elif i == n - 1:\n",
    "                yield n\n",
    "\n",
    "try:\n",
    "    s = task5()\n",
    "    k = int(input('Enter a value k: '))\n",
    "    for i in range(k):\n",
    "\n",
    "        m = next(s)\n",
    "\n",
    "    print(\"Simple number:\", m)\n",
    "except TypeError:\n",
    "    print(\"non-integer input!\")\n",
    "except ValueError:\n",
    "    print(\"invalid value input!\")\n",
    "except Exception:\n",
    "    print(\"unknown error...\")"
   ]
  },
  {
   "cell_type": "code",
   "execution_count": null,
   "metadata": {},
   "outputs": [],
   "source": []
  }
 ],
 "metadata": {
  "kernelspec": {
   "display_name": "Python 3",
   "language": "python",
   "name": "python3"
  },
  "language_info": {
   "codemirror_mode": {
    "name": "ipython",
    "version": 3
   },
   "file_extension": ".py",
   "mimetype": "text/x-python",
   "name": "python",
   "nbconvert_exporter": "python",
   "pygments_lexer": "ipython3",
   "version": "3.8.3"
  }
 },
 "nbformat": 4,
 "nbformat_minor": 4
}
